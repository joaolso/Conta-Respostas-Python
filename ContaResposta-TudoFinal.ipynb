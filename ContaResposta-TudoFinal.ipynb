{
 "cells": [
  {
   "cell_type": "code",
   "execution_count": 59,
   "metadata": {},
   "outputs": [],
   "source": [
    "import glob\n",
    "import numpy as np\n",
    "import pandas as pd\n",
    "import matplotlib.pyplot as plt\n",
    "import os\n"
   ]
  },
  {
   "cell_type": "code",
   "execution_count": 60,
   "metadata": {},
   "outputs": [
    {
     "name": "stdout",
     "output_type": "stream",
     "text": [
      "C:\\Users\\João\\Dropbox\\Jupyter notebook\\Conta Respostas\n"
     ]
    }
   ],
   "source": [
    "#!pwd                 #<---- # Para ambientes Linux\n",
    "print (os.getcwd())   #<----- # para ambientes Windows\n",
    "\n",
    "#copie e cole o caminho apos o r'...' na linha abaixo"
   ]
  },
  {
   "cell_type": "code",
   "execution_count": 61,
   "metadata": {},
   "outputs": [],
   "source": [
    "path = r'\\Users\\João\\Dropbox\\Jupyter notebook\\Conta Respostas' # colocar o caminho aqui\n",
    "all_files = glob.glob(path + \"/*.csv\") # carregando arquivos do diretorio\n",
    "\n",
    "dflist = [] # criando dicionario para armazenar os dataframes\n",
    "\n",
    "for cont in all_files: # pego os arquivos no glob e importa via dataframe\n",
    "    dflist.append(pd.read_csv(cont, sep=';'))"
   ]
  },
  {
   "cell_type": "code",
   "execution_count": 62,
   "metadata": {},
   "outputs": [
    {
     "name": "stderr",
     "output_type": "stream",
     "text": [
      "C:\\ProgramData\\Anaconda3\\lib\\site-packages\\ipykernel_launcher.py:23: SettingWithCopyWarning: \n",
      "A value is trying to be set on a copy of a slice from a DataFrame\n",
      "\n",
      "See the caveats in the documentation: http://pandas.pydata.org/pandas-docs/stable/indexing.html#indexing-view-versus-copy\n"
     ]
    },
    {
     "data": {
      "text/html": [
       "<div>\n",
       "<style scoped>\n",
       "    .dataframe tbody tr th:only-of-type {\n",
       "        vertical-align: middle;\n",
       "    }\n",
       "\n",
       "    .dataframe tbody tr th {\n",
       "        vertical-align: top;\n",
       "    }\n",
       "\n",
       "    .dataframe thead th {\n",
       "        text-align: right;\n",
       "    }\n",
       "</style>\n",
       "<table border=\"1\" class=\"dataframe\">\n",
       "  <thead>\n",
       "    <tr style=\"text-align: right;\">\n",
       "      <th></th>\n",
       "      <th>Nome</th>\n",
       "      <th>Avaliar/10,00</th>\n",
       "    </tr>\n",
       "  </thead>\n",
       "  <tbody>\n",
       "    <tr>\n",
       "      <th>0</th>\n",
       "      <td>Túlio</td>\n",
       "      <td>10.00</td>\n",
       "    </tr>\n",
       "    <tr>\n",
       "      <th>1</th>\n",
       "      <td>victor</td>\n",
       "      <td>10.00</td>\n",
       "    </tr>\n",
       "    <tr>\n",
       "      <th>2</th>\n",
       "      <td>victor</td>\n",
       "      <td>10.00</td>\n",
       "    </tr>\n",
       "    <tr>\n",
       "      <th>3</th>\n",
       "      <td>Mateus Henrique</td>\n",
       "      <td>10.00</td>\n",
       "    </tr>\n",
       "    <tr>\n",
       "      <th>4</th>\n",
       "      <td>Cristine</td>\n",
       "      <td>10.00</td>\n",
       "    </tr>\n",
       "    <tr>\n",
       "      <th>5</th>\n",
       "      <td>Thiago</td>\n",
       "      <td>10.00</td>\n",
       "    </tr>\n",
       "    <tr>\n",
       "      <th>6</th>\n",
       "      <td>Rodrigo</td>\n",
       "      <td>10.00</td>\n",
       "    </tr>\n",
       "    <tr>\n",
       "      <th>7</th>\n",
       "      <td>Tallis Marques</td>\n",
       "      <td>10.00</td>\n",
       "    </tr>\n",
       "    <tr>\n",
       "      <th>8</th>\n",
       "      <td>Paulo</td>\n",
       "      <td>9.33</td>\n",
       "    </tr>\n",
       "    <tr>\n",
       "      <th>9</th>\n",
       "      <td>Thaynara Mabille</td>\n",
       "      <td>9.67</td>\n",
       "    </tr>\n",
       "    <tr>\n",
       "      <th>10</th>\n",
       "      <td>Victor</td>\n",
       "      <td>7.67</td>\n",
       "    </tr>\n",
       "    <tr>\n",
       "      <th>11</th>\n",
       "      <td>Leonardo</td>\n",
       "      <td>7.67</td>\n",
       "    </tr>\n",
       "    <tr>\n",
       "      <th>12</th>\n",
       "      <td>Leidiane Beatriz</td>\n",
       "      <td>10.00</td>\n",
       "    </tr>\n",
       "    <tr>\n",
       "      <th>13</th>\n",
       "      <td>Alison</td>\n",
       "      <td>10.00</td>\n",
       "    </tr>\n",
       "    <tr>\n",
       "      <th>14</th>\n",
       "      <td>Isabela</td>\n",
       "      <td>10.00</td>\n",
       "    </tr>\n",
       "    <tr>\n",
       "      <th>15</th>\n",
       "      <td>Juliana Maria</td>\n",
       "      <td>10.00</td>\n",
       "    </tr>\n",
       "  </tbody>\n",
       "</table>\n",
       "</div>"
      ],
      "text/plain": [
       "                Nome  Avaliar/10,00\n",
       "0              Túlio          10.00\n",
       "1             victor          10.00\n",
       "2             victor          10.00\n",
       "3    Mateus Henrique          10.00\n",
       "4           Cristine          10.00\n",
       "5             Thiago          10.00\n",
       "6            Rodrigo          10.00\n",
       "7     Tallis Marques          10.00\n",
       "8              Paulo           9.33\n",
       "9   Thaynara Mabille           9.67\n",
       "10            Victor           7.67\n",
       "11          Leonardo           7.67\n",
       "12  Leidiane Beatriz          10.00\n",
       "13            Alison          10.00\n",
       "14           Isabela          10.00\n",
       "15     Juliana Maria          10.00"
      ]
     },
     "execution_count": 62,
     "metadata": {},
     "output_type": "execute_result"
    }
   ],
   "source": [
    "for cont in range(len(dflist)):\n",
    "    dflist[cont].reset_index(drop=True, inplace=True)\n",
    "    dflist[cont].insert(1, 'Avaliar/10,00', 0)\n",
    "    dflist[cont]['Avaliar/10,00'] = dflist[cont]['Avaliar/10,00'].astype(float)\n",
    "\n",
    "for cont in range(len(dflist)):\n",
    "    indices=0\n",
    "    datatemp = dflist[cont].iloc[:,0:2]\n",
    "    dflist[cont] = dflist[cont].drop(dflist[cont].columns[0:2], axis=1)\n",
    "    \n",
    "    while indices<(len(dflist[cont].index)):\n",
    "        x=0\n",
    "        y=(len(dflist[cont].columns)) # quantidades de colunas ou melhor \"respostas\" | -1 por causa da ultima coluna\n",
    "        columns = list(dflist[cont]) # para simplicar vamos criar uma lista de colunas de dados e, em seguida, iterar por essa lista para extrair as colunas do dataframe\n",
    "        \n",
    "        for column in columns:\n",
    "            if ((pd.isna(dflist[cont][column][indices])) |\n",
    "                (dflist[cont][column][indices] == '</NULL>') |\n",
    "                (dflist[cont][column][indices] == '-') |\n",
    "                (dflist[cont][column][indices] == '.')):\n",
    "                x+=1\n",
    "        x = y-x # cálculo para identificar quantas respostas existem no dataframe\n",
    "        datatemp['Avaliar/10,00'][indices]= ((x/(len(dflist[cont].columns))*10))\n",
    "        indices+=1\n",
    "        \n",
    "    dflist[cont] = pd.concat([datatemp, dflist[cont]], axis=1)\n",
    "    dflist[cont]['Avaliar/10,00'] = dflist[cont]['Avaliar/10,00'].apply(lambda x: round(x, 2))\n",
    "\n",
    "def mergedata():\n",
    "    if len(dflist) == 1:\n",
    "        data = dflist[0].iloc[:,0:2].copy()\n",
    "        return data\n",
    "    else:\n",
    "        flag = 0\n",
    "        for cont in range(len(dflist)):\n",
    "            if flag == 0:\n",
    "                data = dflist[cont].iloc[:,0:2].copy()\n",
    "                flag += 1\n",
    "            else:\n",
    "                data = pd.concat([data,dflist[cont].iloc[:,0:2]], axis=1)\n",
    "    return data\n",
    "\n",
    "mergedata()"
   ]
  },
  {
   "cell_type": "code",
   "execution_count": null,
   "metadata": {
    "scrolled": true
   },
   "outputs": [],
   "source": [
    "# Exportar para .CSV"
   ]
  },
  {
   "cell_type": "code",
   "execution_count": 65,
   "metadata": {},
   "outputs": [],
   "source": [
    "data.to_csv('final.csv',index=False , sep=';', encoding='utf-8')"
   ]
  }
 ],
 "metadata": {
  "kernelspec": {
   "display_name": "Python 3",
   "language": "python",
   "name": "python3"
  },
  "language_info": {
   "codemirror_mode": {
    "name": "ipython",
    "version": 3
   },
   "file_extension": ".py",
   "mimetype": "text/x-python",
   "name": "python",
   "nbconvert_exporter": "python",
   "pygments_lexer": "ipython3",
   "version": "3.7.3"
  }
 },
 "nbformat": 4,
 "nbformat_minor": 2
}
